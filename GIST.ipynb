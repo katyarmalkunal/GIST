{
 "cells": [
  {
   "cell_type": "code",
   "execution_count": 1,
   "metadata": {},
   "outputs": [
    {
     "data": {
      "text/plain": [
       "'F:\\\\Kunal\\\\Job_Applications\\\\DeeperSystem'"
      ]
     },
     "execution_count": 1,
     "metadata": {},
     "output_type": "execute_result"
    }
   ],
   "source": [
    "import os\n",
    "os.chdir(\"F:\\Kunal\\Job_Applications\\DeeperSystem\")\n",
    "os.getcwd()\n"
   ]
  },
  {
   "cell_type": "code",
   "execution_count": 2,
   "metadata": {},
   "outputs": [],
   "source": [
    "import pandas as pd\n",
    "\n",
    "df=pd.read_json(\"source_file_2.json\")"
   ]
  },
  {
   "cell_type": "code",
   "execution_count": 3,
   "metadata": {},
   "outputs": [
    {
     "data": {
      "text/html": [
       "<div>\n",
       "<style scoped>\n",
       "    .dataframe tbody tr th:only-of-type {\n",
       "        vertical-align: middle;\n",
       "    }\n",
       "\n",
       "    .dataframe tbody tr th {\n",
       "        vertical-align: top;\n",
       "    }\n",
       "\n",
       "    .dataframe thead th {\n",
       "        text-align: right;\n",
       "    }\n",
       "</style>\n",
       "<table border=\"1\" class=\"dataframe\">\n",
       "  <thead>\n",
       "    <tr style=\"text-align: right;\">\n",
       "      <th></th>\n",
       "      <th>managers</th>\n",
       "      <th>name</th>\n",
       "      <th>priority</th>\n",
       "      <th>watchers</th>\n",
       "    </tr>\n",
       "  </thead>\n",
       "  <tbody>\n",
       "    <tr>\n",
       "      <th>0</th>\n",
       "      <td>[csaftoiu, merlin]</td>\n",
       "      <td>[CV] [Qt] OpenCV GUI</td>\n",
       "      <td>850</td>\n",
       "      <td>[merlin, morris]</td>\n",
       "    </tr>\n",
       "    <tr>\n",
       "      <th>1</th>\n",
       "      <td>[merlin]</td>\n",
       "      <td>[Web] pm-site</td>\n",
       "      <td>260</td>\n",
       "      <td>[csaftoiu, jpfarias, morris]</td>\n",
       "    </tr>\n",
       "    <tr>\n",
       "      <th>2</th>\n",
       "      <td>[luanda]</td>\n",
       "      <td>Annotations</td>\n",
       "      <td>10</td>\n",
       "      <td>[csaftoiu, merlin, victor]</td>\n",
       "    </tr>\n",
       "    <tr>\n",
       "      <th>3</th>\n",
       "      <td>[csaftoiu]</td>\n",
       "      <td>[OCR] tesseract MRZ reading</td>\n",
       "      <td>560</td>\n",
       "      <td>[arturc, merlin]</td>\n",
       "    </tr>\n",
       "    <tr>\n",
       "      <th>4</th>\n",
       "      <td>[morris]</td>\n",
       "      <td>Deepgammon</td>\n",
       "      <td>150</td>\n",
       "      <td>[merlin, victor]</td>\n",
       "    </tr>\n",
       "  </tbody>\n",
       "</table>\n",
       "</div>"
      ],
      "text/plain": [
       "             managers                          name  priority  \\\n",
       "0  [csaftoiu, merlin]          [CV] [Qt] OpenCV GUI       850   \n",
       "1            [merlin]                 [Web] pm-site       260   \n",
       "2            [luanda]                   Annotations        10   \n",
       "3          [csaftoiu]  [OCR] tesseract MRZ reading        560   \n",
       "4            [morris]                    Deepgammon       150   \n",
       "\n",
       "                       watchers  \n",
       "0              [merlin, morris]  \n",
       "1  [csaftoiu, jpfarias, morris]  \n",
       "2    [csaftoiu, merlin, victor]  \n",
       "3              [arturc, merlin]  \n",
       "4              [merlin, victor]  "
      ]
     },
     "execution_count": 3,
     "metadata": {},
     "output_type": "execute_result"
    }
   ],
   "source": [
    "df.head()"
   ]
  },
  {
   "cell_type": "code",
   "execution_count": 4,
   "metadata": {},
   "outputs": [
    {
     "name": "stdout",
     "output_type": "stream",
     "text": [
      "<class 'pandas.core.frame.DataFrame'>\n",
      "RangeIndex: 46 entries, 0 to 45\n",
      "Data columns (total 4 columns):\n",
      "managers    46 non-null object\n",
      "name        46 non-null object\n",
      "priority    46 non-null int64\n",
      "watchers    46 non-null object\n",
      "dtypes: int64(1), object(3)\n",
      "memory usage: 1.5+ KB\n"
     ]
    }
   ],
   "source": [
    "df.info()"
   ]
  },
  {
   "cell_type": "code",
   "execution_count": 7,
   "metadata": {},
   "outputs": [],
   "source": [
    "# MANAGERS\n",
    "managers=[]\n",
    "for ind,row in df.iterrows():\n",
    "    if len(row['managers'])!=1:\n",
    "        for man in row['managers']:\n",
    "            if man not in managers:\n",
    "                managers.append(man)\n",
    "    else:\n",
    "        if row['managers'][0] not in managers:\n",
    "            managers.append(row['managers'][0])\n",
    "            \n",
    "            \n",
    "# WATCHERS            \n",
    "watchers=[]\n",
    "for ind,row in df.iterrows():\n",
    "    if len(row['watchers'])!=1:\n",
    "        for watcher in row['watchers']:\n",
    "            if watcher not in watchers:\n",
    "                watchers.append(watcher)\n",
    "    else:\n",
    "        if row['watchers'][0] not in watchers:\n",
    "            watchers.append(row['watchers'][0])"
   ]
  },
  {
   "cell_type": "code",
   "execution_count": 8,
   "metadata": {},
   "outputs": [
    {
     "name": "stdout",
     "output_type": "stream",
     "text": [
      "['csaftoiu', 'merlin', 'luanda', 'morris', 'arturc', 'victor-mgr', 'ariel', 'victor']\n",
      "*************************\n",
      "['merlin', 'morris', 'csaftoiu', 'jpfarias', 'victor', 'arturc', 'victor-mgr', 'Alex']\n"
     ]
    }
   ],
   "source": [
    "print(managers)\n",
    "print(25*\"*\")\n",
    "print(watchers)"
   ]
  },
  {
   "cell_type": "code",
   "execution_count": 9,
   "metadata": {},
   "outputs": [],
   "source": [
    "# MANAGERS\n",
    "dct_man={}\n",
    "for man in managers:\n",
    "    dct_man.setdefault(man,[])\n",
    "#WATCHERS\n",
    "dct_watcher={}\n",
    "for watcher in watchers:\n",
    "    dct_watcher.setdefault(watcher,[])"
   ]
  },
  {
   "cell_type": "code",
   "execution_count": 10,
   "metadata": {},
   "outputs": [],
   "source": [
    "# appending values (project_name & priority) to dictionary for each manager & watcher\n",
    "# we are appending priority value as well because, we will be using the same to sort the list of tuples\n",
    "\n",
    "#MANAGERS\n",
    "for ind,row in df.iterrows():\n",
    "    if len(row['managers'])!=1:\n",
    "        for man in row['managers']:\n",
    "            dct_man[man].append((row['name'],row['priority']))\n",
    "    else:\n",
    "        dct_man[row['managers'][0]].append((row['name'],row['priority']))\n",
    "#WATCHERS\n",
    "for ind,row in df.iterrows():\n",
    "    if len(row['watchers'])!=1:\n",
    "        for watcher in row['watchers']:\n",
    "            dct_watcher[watcher].append((row['name'],row['priority']))\n",
    "    else:\n",
    "        dct_watcher[row['watchers'][0]].append((row['name'],row['priority']))"
   ]
  },
  {
   "cell_type": "code",
   "execution_count": 19,
   "metadata": {},
   "outputs": [
    {
     "name": "stdout",
     "output_type": "stream",
     "text": [
      "{'csaftoiu': [('sportsparsers - pinnacle API', 340), ('[OCR] tesseract MRZ reading ', 560), ('unity render diff passport text artur', 815), ('[CV] [Qt] OpenCV GUI', 850), ('unity render different passport text', 2230), ('[template] unity render passport text', 2235), ('matchbook parser - mfilho', 2575)], 'merlin': [('[EXECUTIVE] Merlin', 20), ('[Web] pm-site', 260), ('[ID-VERIFY-PIPELINE] finger detector', 735), ('[CHESS] Live Demo Executive', 750), ('[INHOUSE-TOOLS] NN-Webapp', 755), ('[INHOUSE-TOOLS] Annotators app', 760), ('[CV] [Qt] OpenCV GUI', 850), ('python training lucas', 2160), ('python training alysson', 2180), ('unity render diff passport text - kennedy', 2260), ('Unity Render Passport Text [Template]', 2265), ('chess board finder eliaquim', 2330), ('[IOS-APPS] IOS streaming app', 2375), ('[IOS-APPS] IOS PI app', 2380), ('[HR] Candidate tests', 2385), ('[CHATBOT] merlin', 2390), ('[ID-VERIFY-PIPELINE] Background evaluator', 2395), ('[ID-VERIFY-PIPELINE] Passport finder', 2400), ('[CHATBOT] rodrigo', 2405), ('[BG-CLUB-SITE] frontend', 2435), ('[INHOUSE-TOOLS] NN-Webapp 2', 2520)], 'luanda': [('Annotations', 10)], 'morris': [('sportsparsers - 22bet', 45), ('sportsparsers - esportscalendar', 55), ('sportsparsers - unikrn', 145), ('Deepgammon', 150), ('Runningball Parser', 155), ('sportsparsers - unibet', 250), ('sportsparsers - tipster.de', 295), ('sportsparsers - betway', 300), ('sportsparsers - gg.bet', 310), ('sportsparsers - matchbook', 395), ('matchbook parser - mfilho', 2575)], 'arturc': [('unity render diff passport text artur', 815)], 'victor-mgr': [('mateus silva bg deep checkers', 2295), ('Android Camera App rrocha', 2300), ('bg deep learning aporto', 2305), ('bg deep checkers rvalentim', 2310), ('tourney site famador', 2320), ('tourney site ariel', 2340), ('tourney site tbarbalho', 2345)], 'ariel': [('[BG-CLUB-SITE] frontend', 2435)], 'victor': [('morris bg data gathering', 130)]}\n",
      "**************************************************\n",
      "{'merlin': [('Annotations', 10), ('[EXECUTIVE] Merlin', 20), ('sportsparsers - 22bet', 45), ('sportsparsers - esportscalendar', 55), ('sportsparsers - unikrn', 145), ('Deepgammon', 150), ('Runningball Parser', 155), ('sportsparsers - unibet', 250), ('sportsparsers - tipster.de', 295), ('sportsparsers - betway', 300), ('sportsparsers - gg.bet', 310), ('sportsparsers - matchbook', 395), ('[OCR] tesseract MRZ reading ', 560), ('[INHOUSE-TOOLS] NN-Webapp', 755), ('unity render diff passport text artur', 815), ('[CV] [Qt] OpenCV GUI', 850), ('unity render different passport text', 2230), ('[template] unity render passport text', 2235), ('unity render diff passport text - kennedy', 2260), ('Unity Render Passport Text [Template]', 2265), ('mateus silva bg deep checkers', 2295), ('Android Camera App rrocha', 2300), ('bg deep learning aporto', 2305), ('bg deep checkers rvalentim', 2310), ('tourney site famador', 2320), ('tourney site ariel', 2340), ('tourney site tbarbalho', 2345), ('[INHOUSE-TOOLS] NN-Webapp 2', 2520), ('matchbook parser - mfilho', 2575)], 'morris': [('[EXECUTIVE] Merlin', 20), ('morris bg data gathering', 130), ('[Web] pm-site', 260), ('sportsparsers - pinnacle API', 340), ('[ID-VERIFY-PIPELINE] finger detector', 735), ('[CHESS] Live Demo Executive', 750), ('[INHOUSE-TOOLS] NN-Webapp', 755), ('[INHOUSE-TOOLS] Annotators app', 760), ('unity render diff passport text artur', 815), ('[CV] [Qt] OpenCV GUI', 850), ('python training lucas', 2160), ('python training alysson', 2180), ('unity render different passport text', 2230), ('[template] unity render passport text', 2235), ('unity render diff passport text - kennedy', 2260), ('Unity Render Passport Text [Template]', 2265), ('[IOS-APPS] IOS streaming app', 2375), ('[IOS-APPS] IOS PI app', 2380), ('[HR] Candidate tests', 2385), ('[CHATBOT] merlin', 2390), ('[ID-VERIFY-PIPELINE] Background evaluator', 2395), ('[ID-VERIFY-PIPELINE] Passport finder', 2400), ('[CHATBOT] rodrigo', 2405), ('[BG-CLUB-SITE] frontend', 2435), ('[INHOUSE-TOOLS] NN-Webapp 2', 2520)], 'csaftoiu': [('Annotations', 10), ('[EXECUTIVE] Merlin', 20), ('sportsparsers - 22bet', 45), ('sportsparsers - esportscalendar', 55), ('morris bg data gathering', 130), ('sportsparsers - unikrn', 145), ('Runningball Parser', 155), ('sportsparsers - unibet', 250), ('[Web] pm-site', 260), ('sportsparsers - tipster.de', 295), ('sportsparsers - betway', 300), ('sportsparsers - gg.bet', 310), ('sportsparsers - pinnacle API', 340), ('sportsparsers - matchbook', 395), ('[ID-VERIFY-PIPELINE] finger detector', 735), ('[CHESS] Live Demo Executive', 750), ('[INHOUSE-TOOLS] NN-Webapp', 755), ('[INHOUSE-TOOLS] Annotators app', 760), ('python training lucas', 2160), ('python training alysson', 2180), ('unity render diff passport text - kennedy', 2260), ('Unity Render Passport Text [Template]', 2265), ('mateus silva bg deep checkers', 2295), ('Android Camera App rrocha', 2300), ('bg deep learning aporto', 2305), ('bg deep checkers rvalentim', 2310), ('tourney site famador', 2320), ('chess board finder eliaquim', 2330), ('tourney site ariel', 2340), ('tourney site tbarbalho', 2345), ('[IOS-APPS] IOS streaming app', 2375), ('[IOS-APPS] IOS PI app', 2380), ('[HR] Candidate tests', 2385), ('[CHATBOT] merlin', 2390), ('[ID-VERIFY-PIPELINE] Background evaluator', 2395), ('[ID-VERIFY-PIPELINE] Passport finder', 2400), ('[CHATBOT] rodrigo', 2405), ('[BG-CLUB-SITE] frontend', 2435), ('[INHOUSE-TOOLS] NN-Webapp 2', 2520)], 'jpfarias': [('[EXECUTIVE] Merlin', 20), ('[Web] pm-site', 260), ('[ID-VERIFY-PIPELINE] finger detector', 735), ('[INHOUSE-TOOLS] NN-Webapp', 755), ('[INHOUSE-TOOLS] Annotators app', 760), ('[IOS-APPS] IOS streaming app', 2375), ('[IOS-APPS] IOS PI app', 2380), ('[HR] Candidate tests', 2385), ('[CHATBOT] merlin', 2390), ('[ID-VERIFY-PIPELINE] Background evaluator', 2395), ('[ID-VERIFY-PIPELINE] Passport finder', 2400), ('[CHATBOT] rodrigo', 2405), ('[BG-CLUB-SITE] frontend', 2435), ('[INHOUSE-TOOLS] NN-Webapp 2', 2520), ('matchbook parser - mfilho', 2575)], 'victor': [('Annotations', 10), ('Deepgammon', 150)], 'arturc': [('[OCR] tesseract MRZ reading ', 560)], 'victor-mgr': [('chess board finder eliaquim', 2330)], 'Alex': [('sportsparsers - pinnacle API', 340)]}\n"
     ]
    }
   ],
   "source": [
    "print(dct_man)\n",
    "print(50*\"*\")\n",
    "print(dct_watcher)\n"
   ]
  },
  {
   "cell_type": "code",
   "execution_count": 12,
   "metadata": {},
   "outputs": [],
   "source": [
    "from operator import itemgetter\n",
    "\n",
    "# we are sorting list of tuples based on 2nd position value of tuple i.e index 1 value\n",
    "\n",
    "#MANAGERS\n",
    "for man in managers:\n",
    "    dct_man[man]=sorted(dct_man[man],key=itemgetter(1))\n",
    "#WATCHERS\n",
    "for watcher in watchers:\n",
    "    dct_watcher[watcher]=sorted(dct_watcher[watcher],key=itemgetter(1))\n",
    "    \n",
    "\n"
   ]
  },
  {
   "cell_type": "code",
   "execution_count": 14,
   "metadata": {},
   "outputs": [],
   "source": [
    "#MANAGERS\n",
    "dct_man_res={}\n",
    "for man in managers:\n",
    "    dct_man_res.setdefault(man,[])\n",
    "#WATCHERS\n",
    "dct_watcher_res={}\n",
    "for watcher in watchers:\n",
    "    dct_watcher_res.setdefault(watcher,[])\n",
    "    \n",
    "\n",
    "# now here we are just getting project_name value from the list of tuple (as we are done with sorting based on priority value)\n",
    "\n",
    "#MANAGERS\n",
    "for man in managers:\n",
    "    for item in dct_man[man]:\n",
    "        dct_man_res[man].append(item[0])\n",
    "#WATCHERS\n",
    "for watcher in watchers:\n",
    "    for item in dct_watcher[watcher]:\n",
    "        dct_watcher_res[watcher].append(item[0])\n",
    "        "
   ]
  },
  {
   "cell_type": "code",
   "execution_count": 21,
   "metadata": {},
   "outputs": [],
   "source": [
    "import json\n",
    "\n",
    "#Writing data to json files\n",
    "\n",
    "#MANAGERS\n",
    "js_managers=json.dumps(dct_man_res)\n",
    "with open(\"managers.json\",\"w\") as file:\n",
    "    file.write(js_managers)\n",
    "    \n",
    "#WATCHERS\n",
    "js_watchers=json.dumps(dct_watcher_res)\n",
    "with open(\"watchers.json\",\"w\") as file:\n",
    "    file.write(js_watchers)"
   ]
  },
  {
   "cell_type": "code",
   "execution_count": null,
   "metadata": {},
   "outputs": [],
   "source": []
  },
  {
   "cell_type": "code",
   "execution_count": null,
   "metadata": {},
   "outputs": [],
   "source": []
  }
 ],
 "metadata": {
  "kernelspec": {
   "display_name": "Python 3",
   "language": "python",
   "name": "python3"
  },
  "language_info": {
   "codemirror_mode": {
    "name": "ipython",
    "version": 3
   },
   "file_extension": ".py",
   "mimetype": "text/x-python",
   "name": "python",
   "nbconvert_exporter": "python",
   "pygments_lexer": "ipython3",
   "version": "3.6.5"
  }
 },
 "nbformat": 4,
 "nbformat_minor": 2
}
